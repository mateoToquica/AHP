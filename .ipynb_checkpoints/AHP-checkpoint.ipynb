{
 "cells": [
  {
   "cell_type": "markdown",
   "metadata": {},
   "source": [
    "# AHP Analysis\n",
    "### Presented by Mateo Toquica Arango"
   ]
  },
  {
   "cell_type": "markdown",
   "metadata": {},
   "source": [
    "## Import data\n",
    "The following part we will show what we will do for the analysis of the AHP analysis. We only need the csv import for read the documents and numpy to analyise to solve the problems"
   ]
  },
  {
   "cell_type": "code",
   "execution_count": 1,
   "metadata": {},
   "outputs": [],
   "source": [
    "import csv\n",
    "import numpy as np"
   ]
  },
  {
   "cell_type": "markdown",
   "metadata": {},
   "source": [
    "## Functions\n",
    "### Reading files\n",
    "we need to start to read the files, those files will be on csv extension also we need to encoding the text because we need to read the headers and columns with the titles"
   ]
  },
  {
   "cell_type": "code",
   "execution_count": 2,
   "metadata": {},
   "outputs": [],
   "source": [
    "def readFile(path):\n",
    "    tmp = []\n",
    "    with open(path, encoding=\"utf-8-sig\") as File:  \n",
    "        reader = csv.reader(File,delimiter=';')\n",
    "        for row in reader:\n",
    "            tmp.append(row)                \n",
    "        return tmp"
   ]
  },
  {
   "cell_type": "markdown",
   "metadata": {},
   "source": [
    "### Files with titles\n",
    "For those files who bring headers and titles, we need to erase those little details to clean the data and be able to star working with it, so this funcition give us the posibility to delete it. We just need the array who must be a matrix from MxN then we need the 'pos' because this function not only will delete the first position of those matrix and finally we ask for the option to delete 0 if they need to delete header and column 1 if they need to delete just a header and 2 if they need to delete just a column\n"
   ]
  },
  {
   "cell_type": "code",
   "execution_count": 3,
   "metadata": {},
   "outputs": [],
   "source": [
    "def deleteTitles(array, index, pos):\n",
    "    if(index == 0):\n",
    "        aux = np.delete(array, pos, 1)\n",
    "        aux = np.delete(aux, pos, 0)       \n",
    "    if(index == 1):\n",
    "        aux = np.delete(array, pos, 1)\n",
    "    if(index == 2):\n",
    "        aux = np.delete(array, pos, 0)\n",
    "    return aux"
   ]
  },
  {
   "cell_type": "markdown",
   "metadata": {},
   "source": [
    "### Normalized\n",
    "This function just need an array that array will make a summary, that is another function that return a list of the sum of all the columns or rows as we need it, for this case we use 0 to indicate that we need to sum the columns. At the end, the function divide those sums with the initial array and we will get a matrix with those values."
   ]
  },
  {
   "cell_type": "code",
   "execution_count": 7,
   "metadata": {},
   "outputs": [],
   "source": [
    "def matrixNormalized(array):\n",
    "    floatArray = transformIntoFloat(array)\n",
    "    sumArray = summary(floatArray, 0)\n",
    "    divideArray = np.divide(floatArray, sumArray)        \n",
    "    return divideArray"
   ]
  },
  {
   "cell_type": "markdown",
   "metadata": {},
   "source": [
    "### Transforming the data into floats\n",
    "As we show in the first function we got a matrix encoding with utf 8, so we need to guarantee that those files will be on float type, so this function change just that from our code"
   ]
  },
  {
   "cell_type": "code",
   "execution_count": 8,
   "metadata": {},
   "outputs": [],
   "source": [
    "def transformIntoFloat(array):\n",
    "    return array.astype(np.float)"
   ]
  },
  {
   "cell_type": "markdown",
   "metadata": {},
   "source": [
    "### Sum\n",
    "Making a sum of the matrix, we need the array NxM and we will to know what to do, so we ask for an index and with that index we make a sum in the columns or in the rows"
   ]
  },
  {
   "cell_type": "code",
   "execution_count": 9,
   "metadata": {},
   "outputs": [],
   "source": [
    "def summary(array, index):\n",
    "    return np.sum(array, axis = index)"
   ]
  },
  {
   "cell_type": "markdown",
   "metadata": {},
   "source": [
    "### Mean\n",
    "with this function we take a matrix and we make a mean of the columns or rows, depends in what we need and for that reason we have a index, with that index we can give the command to do it."
   ]
  },
  {
   "cell_type": "code",
   "execution_count": 10,
   "metadata": {},
   "outputs": [],
   "source": [
    "def averageRow(array, index):\n",
    "    return np.mean(array, axis=index)"
   ]
  },
  {
   "cell_type": "markdown",
   "metadata": {},
   "source": [
    "### Multiply\n",
    "To multiply an array with another one we just need to do it with the math operator from python."
   ]
  },
  {
   "cell_type": "code",
   "execution_count": 11,
   "metadata": {},
   "outputs": [],
   "source": [
    "def multArray(array1, array2):\n",
    "    return array1*array2"
   ]
  },
  {
   "cell_type": "markdown",
   "metadata": {},
   "source": [
    "### Consistency index\n",
    "To find the consistency index we just need to make a simple calculation between lambdaMax, who is a calculated number from another function, and finally we need to know how many variables we have, that will return to me a number."
   ]
  },
  {
   "cell_type": "code",
   "execution_count": 12,
   "metadata": {},
   "outputs": [],
   "source": [
    "def ci(index, lambdaMax):\n",
    "    return ((lambdaMax-index)/(index-1))"
   ]
  },
  {
   "cell_type": "markdown",
   "metadata": {},
   "source": [
    "### Consistency ratio\n",
    "The consistency ratio is founded thanks to a list that actually we have to load, and is a file to identify what is the value to divide for, finally we need to divide that number founded in the list and CI value who is founded in another function and that will return a final value."
   ]
  },
  {
   "cell_type": "code",
   "execution_count": 13,
   "metadata": {},
   "outputs": [],
   "source": [
    "def consistencyRatio(arrayRi, index, ciValue):\n",
    "    riValue = arrayRi[index-1]\n",
    "    return ciValue/riValue[0]"
   ]
  },
  {
   "cell_type": "markdown",
   "metadata": {},
   "source": [
    "### Read csv n 3D\n",
    "The final part of this work is about list of matrix, so on this section we will be able to load M quantity of files wit the size NxN "
   ]
  },
  {
   "cell_type": "code",
   "execution_count": 14,
   "metadata": {},
   "outputs": [],
   "source": [
    "def readCsv3D(M, N):\n",
    "    arrayElements = np.zeros((M, N, N))\n",
    "    cont = 0\n",
    "    while M > cont:\n",
    "        try:\n",
    "            pathFulano = input(\"Enter the file of the variables: \\n\")\n",
    "            arrayFulanoTitle = np.array(readFile('resources/'+pathFulano))\n",
    "            arrayFulano = transformIntoFloat(deleteTitles(arrayFulanoTitle, 0, 0))\n",
    "            arrayElements[cont] = arrayFulano \n",
    "            cont += 1\n",
    "            \n",
    "        except:\n",
    "            print(\"Ops, little error here.\")  \n",
    "    \n",
    "    return arrayElements"
   ]
  },
  {
   "cell_type": "markdown",
   "metadata": {},
   "source": [
    "### Normalized 3D\n",
    "The function normalized in the past section will not usefull for the list o matrix, so we need to adapt those functions to proceed with our analysis. in this part, we take the original matrix and make a copy of it because we will obtain a list of matrix with the same size, finally we must use a loop for take all the matrix inside in that list and save them in the temporal matrix called themeNorm"
   ]
  },
  {
   "cell_type": "code",
   "execution_count": 15,
   "metadata": {},
   "outputs": [],
   "source": [
    "def normalized3Darray(array3d):\n",
    "    cont = 0\n",
    "    themeNorm = np.copy(array3d)\n",
    "    while cont < len(array3d):\n",
    "        \n",
    "        themeNorm[cont] = matrixNormalized(array3d[cont])\n",
    "        cont += 1\n",
    "    \n",
    "    return themeNorm"
   ]
  },
  {
   "cell_type": "markdown",
   "metadata": {},
   "source": [
    "### Priority matrix\n",
    "Also in the function of mean, we need to adapt our code to be able to make it with multiple matrix, for this function we need the normalized array, the number of columns and the number of rows, the last two to create a temporal matrix to save the outcome from the function called averageRow."
   ]
  },
  {
   "cell_type": "code",
   "execution_count": 16,
   "metadata": {},
   "outputs": [],
   "source": [
    "def priorityMatrix3D(array3D, col, row):\n",
    "    cont = 0\n",
    "    themeMat = np.zeros((col, row))\n",
    "    while cont < len(array3D):\n",
    "        critWeight = averageRow(array3D[cont], 1)\n",
    "        themeMat[cont] = critWeight\n",
    "        cont += 1\n",
    "    return themeMat"
   ]
  },
  {
   "cell_type": "markdown",
   "metadata": {},
   "source": [
    "### multiply the original by the priority\n",
    "We take the original array and we create a copy because we will generate an outcome with the same size, so we create a temporal array and finally we use a loop for multiply the original array with the priority"
   ]
  },
  {
   "cell_type": "code",
   "execution_count": 17,
   "metadata": {},
   "outputs": [],
   "source": [
    "def priorityxOriginal(arrayPriority, array3D):\n",
    "    cont = 0\n",
    "    tmp = np.copy(array3D)\n",
    "    while cont < len(arrayPriority):\n",
    "        tmp[cont] = arrayPriority[cont]*array3D[cont]\n",
    "        cont += 1\n",
    "    return tmp"
   ]
  },
  {
   "cell_type": "markdown",
   "metadata": {},
   "source": [
    "### Weighted sum\n",
    "To calculate the Weighted sum we need the array with the values of the multuplication with the original array and the priority array, then we take the sum of all the rows and the outcome of this function is a matrix with the order NxM."
   ]
  },
  {
   "cell_type": "code",
   "execution_count": 18,
   "metadata": {},
   "outputs": [],
   "source": [
    "def weightedSumValue2d(priorityPerOri, col, row):\n",
    "    tmpVal = np.zeros((col, row))\n",
    "    cont = 0\n",
    "    limit = len(priorityPerOri)\n",
    "    while cont < limit:\n",
    "        valor = summary(priorityPerOri[cont], 1)\n",
    "        tmpVal[cont] = valor\n",
    "        cont += 1\n",
    "    return tmpVal"
   ]
  },
  {
   "cell_type": "markdown",
   "metadata": {},
   "source": [
    "### Consistency ratio\n",
    "In this function we will generate 3 steps at the same time. We will obtain mean, CI and consistency ratio. To do this, we need the list with the ratios, the number of criterial and the number of people who we will evaluate. We generate a temporal list to save the 3 things that we will evaluate here in this function we gona make 2 different list to save the values of CI (cisquare) and CR (rifin). We use the past functions to make the analysis, and at the end we convert the list into numpy array."
   ]
  },
  {
   "cell_type": "code",
   "execution_count": 19,
   "metadata": {},
   "outputs": [],
   "source": [
    "def consistencyRatio2d(array2d, arrayRi, N, M):\n",
    "    tmp = np.zeros((3, M))\n",
    "    mean = averageRow(array2d, 1)\n",
    "    contador = 0\n",
    "    ciquare = []\n",
    "    rifin = []\n",
    "    while contador < len(mean):\n",
    "        ciquare.append(ci(N, mean[contador]))\n",
    "        rifin.append(consistencyRatio(arrayRi, N, ciquare[contador]))\n",
    "        contador += 1\n",
    "    tmp[0] = mean\n",
    "    tmp[1] = np.array(ciquare)\n",
    "    tmp[2] = np.array(rifin)\n",
    "    return tmp"
   ]
  },
  {
   "cell_type": "markdown",
   "metadata": {},
   "source": [
    "### Validation of consistency ratio\n",
    "We need to know if our files have the consistency ratio under 0.1 that is the standard estimation, so this funcition basically make that possible, know if in our list of consistency ratio the calculation is ok if is not we will return a boolean type False."
   ]
  },
  {
   "cell_type": "code",
   "execution_count": 20,
   "metadata": {},
   "outputs": [],
   "source": [
    "def validationCR(array, cr):\n",
    "    tmp = False\n",
    "    cont = 0\n",
    "    while cont < len(array[0]):    \n",
    "        if(array[2][cont] < cr):\n",
    "            tmp = True\n",
    "        cont += 1\n",
    "    return tmp"
   ]
  },
  {
   "cell_type": "markdown",
   "metadata": {},
   "source": [
    "### Sensitivity analysis\n",
    "The las part of our analysis is to know the overall points of all the people that we are evaluating. For that, we use the general priority calculated before and we use the priority calculated in all the people files we need to multiply that for the transpose because we gona generate it as the criterial in the rows and the people in the columns, so we need to transpose this array an then multiply it for the priority of the criterials. Finally, we need to know the same values but with diferent general priority si we use a function to generate equal values (equalWeights(peso)) and another to generate one with the highest value than the others (oneDiferent_restEqual(peso))"
   ]
  },
  {
   "cell_type": "code",
   "execution_count": 21,
   "metadata": {},
   "outputs": [],
   "source": [
    "def sensitivity(priorityVariable, priorityFul):\n",
    "    tmp = np.zeros((len(arrayCandidate), 3))\n",
    "    peso = len(priorityVariable)\n",
    "    tmpList = oneDiferent_restEqual(peso)\n",
    "    tmpList1 = equalWeights(peso)\n",
    "    tmp[0] = summary(np.multiply(priorityVariable, np.transpose(priorityFul)), 1)\n",
    "    tmp[1] = summary(np.multiply(tmpList1, np.transpose(priorityFul)), 1)\n",
    "    tmp[2] = summary(np.multiply(tmpList, np.transpose(priorityFul)), 1)\n",
    "    \n",
    "    return tmp"
   ]
  },
  {
   "cell_type": "markdown",
   "metadata": {},
   "source": [
    "### Equal weights\n",
    "This function generate us a list with the same values"
   ]
  },
  {
   "cell_type": "code",
   "execution_count": 19,
   "metadata": {},
   "outputs": [],
   "source": [
    "def equalWeights (numcols):\n",
    "    \n",
    "    a= np.full(shape=numcols,fill_value=(1/numcols),dtype=np.float)\n",
    "    return a"
   ]
  },
  {
   "cell_type": "markdown",
   "metadata": {},
   "source": [
    "### One higher than the other\n",
    "This function generaate a list with one of those values higher than the other values."
   ]
  },
  {
   "cell_type": "code",
   "execution_count": 20,
   "metadata": {},
   "outputs": [],
   "source": [
    "def oneDiferent_restEqual (numcols):\n",
    "    y = np.full(shape=1,fill_value=0.5,dtype=np.float)\n",
    "    z= np.full(shape=(numcols-1),fill_value=(0.5/(numcols-1)),dtype=np.float)\n",
    "    w= np.append(y,z)\n",
    "    return w"
   ]
  },
  {
   "cell_type": "markdown",
   "metadata": {},
   "source": [
    "## Calling functions\n",
    "### Calling the files\n",
    "In this example we have to use 3 diferent files one with the original values of the candidates like cost per year, programing languages and others, this is for be able to know how many people we will treat in the problem, then we going to use a comparison matrix with all the criterial compare with itself and finally we will use a list of ratio index."
   ]
  },
  {
   "cell_type": "code",
   "execution_count": 21,
   "metadata": {},
   "outputs": [
    {
     "name": "stdout",
     "output_type": "stream",
     "text": [
      "Matrix for candidates: \n",
      "candidate.csv\n",
      "Matrix for your comparisons: \n",
      "comparison.csv\n",
      "Matrix of the value of RI: \n",
      "ri.csv\n"
     ]
    }
   ],
   "source": [
    "arrayCandidate = np.array([])\n",
    "arrayComparison =np.array([])\n",
    "arrayRi = np.array([])\n",
    "while (arrayCandidate.size == 0) and (arrayComparison.size == 0) and (arrayRi.size == 0):\n",
    "    try:\n",
    "        pathCandidate = input(\"Matrix for candidates: \\n\")\n",
    "        pathComparison = input(\"Matrix for your comparisons: \\n\")\n",
    "        pathRi = input(\"Matrix of the value of RI: \\n\")\n",
    "        \n",
    "        arrayCandidateTitle = np.array(readFile('resources/'+pathCandidate))\n",
    "        arrayComparisonTitle = np.array(readFile('resources/'+pathComparison))\n",
    "        arrayRiTitle = np.array(readFile('resources/'+pathRi))\n",
    "       \n",
    "\n",
    "        arrayCandidate = transformIntoFloat(deleteTitles(arrayCandidateTitle, 0, 0))\n",
    "        arrayComparison = transformIntoFloat(deleteTitles(arrayComparisonTitle, 0, 0))\n",
    "        arrayRi = transformIntoFloat(deleteTitles(arrayRiTitle, 1, 0))        \n",
    "\n",
    "    except:\n",
    "        \n",
    "        print ('Path not found or some problem could be happend, try again.')\n"
   ]
  },
  {
   "cell_type": "markdown",
   "metadata": {},
   "source": [
    "### Criterial evaluation\n",
    "The initial part of our analysis is start with the criterial and know it their consistency ratio is under 0.1 which is the standard evaluation. To know the consistency ratio we have to normalaized the original matrix with the function matrixNormalized(arrayComparison) and we use the original matrix obtained in the files called before, then we must know the criterial weight so we use the averageRow, that going to give us se mean of the normalized files, then, we multiply the original matrix with the criterial weight and we going to obatin the priority matrix this to make a sum of our priority matrix in the rows section. This going to give us the oportunity to obtain the final rank by the division of our weighted sum value with the criterual weight.\n",
    "\n",
    "To find final rank in this section we use the averageRow function to know the mean in our finalrank list, then we will to take the CI value with the function ci() and we going to obtain the CR but we need to take care because if the final user decided to evaluate just 2 vcriterials we will need to make a simple validation and finally we going to obtain the consistency ratio value."
   ]
  },
  {
   "cell_type": "code",
   "execution_count": 22,
   "metadata": {},
   "outputs": [],
   "source": [
    "matrixNorm = matrixNormalized(arrayComparison)\n",
    "critWeight = averageRow(matrixNorm, 1)\n",
    "priorityMatrix = multArray(arrayComparison, critWeight)\n",
    "weightedSumValue = summary(priorityMatrix, 1)\n",
    "finalRank = weightedSumValue/critWeight\n",
    "lambdaMax = averageRow(finalRank, None)\n",
    "ciValue = ci(len(arrayComparison[0]), lambdaMax)\n",
    "if(len(arrayComparison) < 2):\n",
    "    crValue = 0\n",
    "else:        \n",
    "    crValue = consistencyRatio(arrayRi, len(arrayComparison[0]), ciValue)"
   ]
  },
  {
   "cell_type": "markdown",
   "metadata": {},
   "source": [
    "### Showing the results\n",
    "This section only show to the final user the results of the analysis."
   ]
  },
  {
   "cell_type": "code",
   "execution_count": 23,
   "metadata": {},
   "outputs": [
    {
     "name": "stdout",
     "output_type": "stream",
     "text": [
      "Original comparison matrix: \n",
      " [[1.         6.         3.         7.        ]\n",
      " [0.16666667 1.         0.16666667 1.        ]\n",
      " [0.33333333 6.         1.         6.        ]\n",
      " [0.14285714 1.         0.16666667 1.        ]] \n",
      "\n",
      "Original candidate matrix: \n",
      " [[4.0e+04 5.0e+00 2.0e+00 3.0e+00]\n",
      " [3.3e+04 1.0e+00 3.0e+00 2.0e+00]\n",
      " [2.0e+04 2.0e+00 5.0e+00 1.0e+00]] \n",
      "\n",
      "Matrix normalized: \n",
      " [[0.60869565 0.42857143 0.69230769 0.46666667]\n",
      " [0.10144928 0.07142857 0.03846154 0.06666667]\n",
      " [0.20289855 0.42857143 0.23076923 0.4       ]\n",
      " [0.08695652 0.07142857 0.03846154 0.06666667]] \n",
      "\n",
      "Criterial Weight: \n",
      " [0.54906036 0.06950151 0.3155598  0.06587832] \n",
      "\n",
      "Priority matrix: \n",
      " [[0.54906036 0.41700908 0.94667941 0.46114827]\n",
      " [0.09151006 0.06950151 0.0525933  0.06587832]\n",
      " [0.18302012 0.41700908 0.3155598  0.39526995]\n",
      " [0.07843719 0.06950151 0.0525933  0.06587832]] \n",
      "\n",
      "Summary of priority matrix: \n",
      " [2.37389712 0.2794832  1.31085895 0.26641033] \n",
      "\n",
      "Final rank: \n",
      " [4.32356311 4.02125344 4.15407456 4.04397553] \n",
      "\n",
      "LambdaMax: \n",
      " 4.135716659859932 \n",
      "\n",
      "The value of ci: \n",
      " 0.04523888661997747 \n",
      "\n",
      "The consistency ratio is: \n",
      " 0.05026542957775274 \n",
      "\n"
     ]
    }
   ],
   "source": [
    "print(\"Original comparison matrix: \\n\", arrayComparison, '\\n')\n",
    "print(\"Original candidate matrix: \\n\", arrayCandidate, '\\n')\n",
    "print(\"Matrix normalized: \\n\", matrixNorm, '\\n')\n",
    "print(\"Criterial Weight: \\n\", critWeight, '\\n')\n",
    "print(\"Priority matrix: \\n\", priorityMatrix, '\\n')\n",
    "print(\"Summary of priority matrix: \\n\", weightedSumValue, '\\n')\n",
    "print(\"Final rank: \\n\", finalRank, '\\n')\n",
    "print(\"LambdaMax: \\n\", lambdaMax, '\\n')\n",
    "print(\"The value of ci: \\n\", ciValue, '\\n')\n",
    "print(\"The consistency ratio is: \\n\", crValue, \"\\n\")"
   ]
  },
  {
   "cell_type": "markdown",
   "metadata": {},
   "source": [
    "### Validation\n",
    "If the consistency ratio that we going to use is the standar one we need to choose the 0 but if you want to use a diferent one the program is able to evaluate your consistency ratio got until this point."
   ]
  },
  {
   "cell_type": "code",
   "execution_count": 24,
   "metadata": {},
   "outputs": [
    {
     "name": "stdout",
     "output_type": "stream",
     "text": [
      "Insert the value of Consistency ratio, choose 0 if you want to use the standar one, choose 1 if you want to insert your own value: \n",
      "0\n"
     ]
    }
   ],
   "source": [
    "while True:\n",
    "    try:\n",
    "        userValCr = int(input('Insert the value of Consistency ratio, choose 0 if you want to use the standar one, choose 1 if you want to insert your own value: \\n'))\n",
    "        if(userValCr == 0):\n",
    "            CR = 0.1\n",
    "            break\n",
    "        if(userValCr == 1):\n",
    "            CR = int(input('Insert your value.'))\n",
    "            break\n",
    "    except ValueError:\n",
    "        print(\"Choose a number.\")\n",
    "    else:\n",
    "        print(\"Please select a number betwen 0 and 1\")\n",
    "    "
   ]
  },
  {
   "cell_type": "markdown",
   "metadata": {},
   "source": [
    "### Final calling\n",
    "This part we started to analyse the situation of out candidates, but for this we need to load the files, "
   ]
  },
  {
   "cell_type": "code",
   "execution_count": 25,
   "metadata": {},
   "outputs": [
    {
     "name": "stdout",
     "output_type": "stream",
     "text": [
      "\n",
      "We can say that here that under the estándar from concistency ratio which is less than 0.1. We can say that the concistency ratiothe matrix is reasonably consistant \n",
      "\n",
      "Enter the file of the variables: \n",
      "1.csv\n",
      "Enter the file of the variables: \n",
      "2.csv\n",
      "Enter the file of the variables: \n",
      "3.csv\n",
      "Enter the file of the variables: \n",
      "4.csv\n",
      "The lambda max for all the candidates is this: \n",
      " [3.11074277 3.07244462 3.00921869 3.00921869] \n",
      "\n",
      "The consinstency index for all the candidates is this: \n",
      " [0.05537139 0.03622231 0.00460935 0.00460935] \n",
      "\n",
      "the consistency ratio for all the candidates is this: \n",
      " [0.09546791 0.06245226 0.00794715 0.00794715] \n",
      "\n",
      "The consistency ratio from all your file are Ok. \n",
      "\n",
      "The overall priority with the priority founded before is: \n",
      " [0.1530078  0.20153816 0.64545404] \n",
      "\n",
      "The overall priority with the equal priority for all is: \n",
      " [0.3872216  0.18781748 0.42496092] \n",
      "\n",
      "The overall priority with the the first value with the highest value is: \n",
      " [0.2795775  0.18677611 0.5336464 ] \n",
      "\n"
     ]
    }
   ],
   "source": [
    "if(crValue < CR):\n",
    "    print(\"\\nWe can say that here that under the estándar from concistency ratio which is less than 0.1. We can say that the concistency ratiothe matrix is reasonably consistant \\n\")\n",
    "    \n",
    "    array3DVariables = readCsv3D(len(arrayComparison), len(arrayCandidate))\n",
    "\n",
    "    normalized3D = normalized3Darray(array3DVariables)\n",
    "    priority2d = priorityMatrix3D(normalized3D, len(arrayComparison), len(arrayCandidate))\n",
    "    priorityPerOri = priorityxOriginal(priority2d, array3DVariables)\n",
    "    wsv2d = weightedSumValue2d(priorityPerOri, len(arrayComparison), len(arrayCandidate))    \n",
    "    finalRank2d = np.divide(wsv2d, priority2d)\n",
    "    ri2d = consistencyRatio2d(finalRank2d, arrayRi, len(arrayCandidate), len(arrayComparison))\n",
    "    print(\"The lambda max for all the candidates is this: \\n\", ri2d[0],'\\n')\n",
    "    print(\"The consinstency index for all the candidates is this: \\n\", ri2d[1], '\\n')\n",
    "    print(\"the consistency ratio for all the candidates is this: \\n\", ri2d[2], '\\n')\n",
    "    if(validationCR(ri2d, CR) or len(arrayComparison) < 2):\n",
    "        print(\"The consistency ratio from all your file are Ok. \\n\")\n",
    "        \n",
    "        sens = sensitivity(critWeight, priority2d)\n",
    "        \n",
    "        print(\"The overall priority with the priority founded before is: \\n\", sens[0], '\\n')\n",
    "        print(\"The overall priority with the equal priority for all is: \\n\", sens[1], '\\n')\n",
    "        print(\"The overall priority with the the first value with the highest value is: \\n\", sens[2], '\\n')\n",
    "    else:\n",
    "        print(\"The Consistency ratio from one of your files isn't less than\", CR)\n",
    "else:\n",
    "    print(\"The result is not as expected, therefore the analysis can only go so far.\")\n"
   ]
  },
  {
   "cell_type": "markdown",
   "metadata": {},
   "source": []
  }
 ],
 "metadata": {
  "kernelspec": {
   "display_name": "Python 3",
   "language": "python",
   "name": "python3"
  },
  "language_info": {
   "codemirror_mode": {
    "name": "ipython",
    "version": 3
   },
   "file_extension": ".py",
   "mimetype": "text/x-python",
   "name": "python",
   "nbconvert_exporter": "python",
   "pygments_lexer": "ipython3",
   "version": "3.7.6"
  }
 },
 "nbformat": 4,
 "nbformat_minor": 4
}
